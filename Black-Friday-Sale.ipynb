{
 "cells": [
  {
   "cell_type": "markdown",
   "metadata": {
    "id": "kTEfbZdY5J6N"
   },
   "source": [
    "# Black Friday Sale\n",
    "This notebook contain the sale prediction of the company called ABC company. The company wants to create the machine learning model to predict and understand the customer purchase behaviour."
   ]
  },
  {
   "cell_type": "markdown",
   "metadata": {
    "id": "JagQdoK46Xzl"
   },
   "source": [
    "For this problem, we follow up some steps to keep ourself on the track.\n",
    "1. Problem Statement\n",
    "2. Understand the Data\n",
    "3. Feature Engineering\n",
    "4. Modeling\n",
    "5. Experimentation"
   ]
  },
  {
   "cell_type": "markdown",
   "metadata": {
    "id": "BWWA_bar7B2M"
   },
   "source": [
    "## 1. Problem Statement\n",
    "A retail company `ABC Private Limited` wants to understand the customer purchase behaviour against various products of different categories. They have shared purchase summary of various customers for selected high volume products from last month.\n",
    "The data set also contains customer demographics, product details and Total purchase amount from last month."
   ]
  },
  {
   "cell_type": "markdown",
   "metadata": {
    "id": "LKuvF-v67hND"
   },
   "source": [
    "## 2. Understand the Data\n",
    "* **User_ID**\tUser ID\n",
    "* **Product_ID**\tProduct ID\n",
    "* **Gender**\tSex of User\n",
    "* **Age**\tAge in bins\n",
    "* **Occupation**\tOccupation (Masked)\n",
    "* **City_Category**\tCategory of the City (A,B,C)\n",
    "* **Stay_In_Current_City_Years**\tNumber of years stay in current city\n",
    "* **Marital_Status**\tMarital Status\n",
    "* **Product_Category_1**\tProduct Category (Masked)\n",
    "* **Product_Category_2**\tProduct may belongs to other category also (Masked)\n",
    "* **Product_Category_3**\tProduct may belongs to other category also (Masked)\n",
    "* **Purchase**\tPurchase Amount (Target Variable)"
   ]
  },
  {
   "cell_type": "markdown",
   "metadata": {
    "id": "1qdqwRmK8D2t"
   },
   "source": [
    "## 3. Data Evaluation\n",
    "\n",
    "In this section we perform the feature engineering to manipulate the data and understand it more better. We fill out the missing value in this section and turns the data into numerical values."
   ]
  },
  {
   "cell_type": "code",
   "execution_count": 1,
   "metadata": {
    "executionInfo": {
     "elapsed": 1894,
     "status": "ok",
     "timestamp": 1612166017573,
     "user": {
      "displayName": "Abhishek Vaish",
      "photoUrl": "https://lh3.googleusercontent.com/a-/AOh14GgLCsbilkMlHzR7sOdFEeXRdJ50Y_uxYgs-5M3MBA=s64",
      "userId": "03849544386864211174"
     },
     "user_tz": -330
    },
    "id": "OQR8cLFA8zWs"
   },
   "outputs": [],
   "source": [
    "PATH = './data'\n",
    "IMG_PATH = './image'"
   ]
  },
  {
   "cell_type": "code",
   "execution_count": 2,
   "metadata": {
    "executionInfo": {
     "elapsed": 3365,
     "status": "ok",
     "timestamp": 1612166019543,
     "user": {
      "displayName": "Abhishek Vaish",
      "photoUrl": "https://lh3.googleusercontent.com/a-/AOh14GgLCsbilkMlHzR7sOdFEeXRdJ50Y_uxYgs-5M3MBA=s64",
      "userId": "03849544386864211174"
     },
     "user_tz": -330
    },
    "id": "RWazUmI29Bk-"
   },
   "outputs": [],
   "source": [
    "train_path = PATH + \"/train.csv\"\n",
    "test_path = PATH + \"/test.csv\""
   ]
  },
  {
   "cell_type": "code",
   "execution_count": 4,
   "metadata": {},
   "outputs": [
    {
     "name": "stdout",
     "output_type": "stream",
     "text": [
      "Collecting missingno\n",
      "  Downloading missingno-0.4.2-py3-none-any.whl (9.7 kB)\n",
      "Requirement already satisfied: scipy in e:\\machine-learning\\analytics-vidhya\\red-black-sale\\env\\lib\\site-packages (from missingno) (1.5.0)\n",
      "Requirement already satisfied: seaborn in e:\\machine-learning\\analytics-vidhya\\red-black-sale\\env\\lib\\site-packages (from missingno) (0.11.0)\n",
      "Requirement already satisfied: matplotlib in e:\\machine-learning\\analytics-vidhya\\red-black-sale\\env\\lib\\site-packages (from missingno) (3.3.2)\n",
      "Requirement already satisfied: numpy in e:\\machine-learning\\analytics-vidhya\\red-black-sale\\env\\lib\\site-packages (from missingno) (1.19.2)\n",
      "Requirement already satisfied: pandas>=0.23 in e:\\machine-learning\\analytics-vidhya\\red-black-sale\\env\\lib\\site-packages (from seaborn->missingno) (1.1.3)\n",
      "Requirement already satisfied: cycler>=0.10 in e:\\machine-learning\\analytics-vidhya\\red-black-sale\\env\\lib\\site-packages (from matplotlib->missingno) (0.10.0)\n",
      "Requirement already satisfied: python-dateutil>=2.1 in e:\\machine-learning\\analytics-vidhya\\red-black-sale\\env\\lib\\site-packages (from matplotlib->missingno) (2.8.1)\n",
      "Requirement already satisfied: pyparsing!=2.0.4,!=2.1.2,!=2.1.6,>=2.0.3 in e:\\machine-learning\\analytics-vidhya\\red-black-sale\\env\\lib\\site-packages (from matplotlib->missingno) (2.4.7)\n",
      "Requirement already satisfied: pillow>=6.2.0 in e:\\machine-learning\\analytics-vidhya\\red-black-sale\\env\\lib\\site-packages (from matplotlib->missingno) (8.0.1)\n",
      "Requirement already satisfied: kiwisolver>=1.0.1 in e:\\machine-learning\\analytics-vidhya\\red-black-sale\\env\\lib\\site-packages (from matplotlib->missingno) (1.2.0)\n",
      "Requirement already satisfied: certifi>=2020.06.20 in e:\\machine-learning\\analytics-vidhya\\red-black-sale\\env\\lib\\site-packages (from matplotlib->missingno) (2020.11.8)\n",
      "Requirement already satisfied: pytz>=2017.2 in e:\\machine-learning\\analytics-vidhya\\red-black-sale\\env\\lib\\site-packages (from pandas>=0.23->seaborn->missingno) (2020.1)\n",
      "Requirement already satisfied: six in e:\\machine-learning\\analytics-vidhya\\red-black-sale\\env\\lib\\site-packages (from cycler>=0.10->matplotlib->missingno) (1.15.0)\n",
      "Installing collected packages: missingno\n",
      "Successfully installed missingno-0.4.2\n"
     ]
    },
    {
     "name": "stderr",
     "output_type": "stream",
     "text": [
      "  WARNING: Retrying (Retry(total=4, connect=None, read=None, redirect=None, status=None)) after connection broken by 'ReadTimeoutError(\"HTTPSConnectionPool(host='files.pythonhosted.org', port=443): Read timed out. (read timeout=15)\")': /packages/2b/de/6e4dd6d720c49939544352155dc06a08c9f7e4271aa631a559dfbeaaf9d4/missingno-0.4.2-py3-none-any.whl\n"
     ]
    }
   ],
   "source": [
    "!pip install missingno"
   ]
  },
  {
   "cell_type": "code",
   "execution_count": 21,
   "metadata": {
    "executionInfo": {
     "elapsed": 1806,
     "status": "ok",
     "timestamp": 1612166250703,
     "user": {
      "displayName": "Abhishek Vaish",
      "photoUrl": "https://lh3.googleusercontent.com/a-/AOh14GgLCsbilkMlHzR7sOdFEeXRdJ50Y_uxYgs-5M3MBA=s64",
      "userId": "03849544386864211174"
     },
     "user_tz": -330
    },
    "id": "iSDKDkeZ9IOd"
   },
   "outputs": [],
   "source": [
    "import pandas as pd\n",
    "import numpy as np\n",
    "import matplotlib.pyplot as plt\n",
    "%matplotlib inline\n",
    "\n",
    "import missingno\n",
    "from sklearn.model_selection import train_test_split\n",
    "from sklearn.preprocessing import LabelEncoder\n",
    "from sklearn.compose import ColumnTransformer\n",
    "import seaborn as sns\n",
    "plt.style.use('seaborn-whitegrid')\n",
    "\n",
    "from sklearn.ensemble import RandomForestRegressor\n",
    "from sklearn.tree import DecisionTreeRegressor\n",
    "from sklearn.linear_model import Ridge\n",
    "from sklearn.linear_model import SGDRegressor\n",
    "from sklearn.metrics import mean_squared_error, make_scorer_scorer\n",
    "from sklearn.pipeline import Pipeline\n",
    "from sklearn.model_selection import RandomizedSearchCV, GridSearchCV\n",
    "\n",
    "import warnings\n",
    "warnings.filterwarnings('ignore')"
   ]
  },
  {
   "cell_type": "code",
   "execution_count": 6,
   "metadata": {
    "colab": {
     "base_uri": "https://localhost:8080/",
     "height": 282
    },
    "executionInfo": {
     "elapsed": 1695,
     "status": "ok",
     "timestamp": 1612162514834,
     "user": {
      "displayName": "Abhishek Vaish",
      "photoUrl": "https://lh3.googleusercontent.com/a-/AOh14GgLCsbilkMlHzR7sOdFEeXRdJ50Y_uxYgs-5M3MBA=s64",
      "userId": "03849544386864211174"
     },
     "user_tz": -330
    },
    "id": "Ww50ajhC9odI",
    "outputId": "45e1cda9-e5e5-4efe-fddb-1e16a6524cbb"
   },
   "outputs": [
    {
     "data": {
      "text/html": [
       "<div>\n",
       "<style scoped>\n",
       "    .dataframe tbody tr th:only-of-type {\n",
       "        vertical-align: middle;\n",
       "    }\n",
       "\n",
       "    .dataframe tbody tr th {\n",
       "        vertical-align: top;\n",
       "    }\n",
       "\n",
       "    .dataframe thead th {\n",
       "        text-align: right;\n",
       "    }\n",
       "</style>\n",
       "<table border=\"1\" class=\"dataframe\">\n",
       "  <thead>\n",
       "    <tr style=\"text-align: right;\">\n",
       "      <th></th>\n",
       "      <th>User_ID</th>\n",
       "      <th>Product_ID</th>\n",
       "      <th>Gender</th>\n",
       "      <th>Age</th>\n",
       "      <th>Occupation</th>\n",
       "      <th>City_Category</th>\n",
       "      <th>Stay_In_Current_City_Years</th>\n",
       "      <th>Marital_Status</th>\n",
       "      <th>Product_Category_1</th>\n",
       "      <th>Product_Category_2</th>\n",
       "      <th>Product_Category_3</th>\n",
       "      <th>Purchase</th>\n",
       "    </tr>\n",
       "  </thead>\n",
       "  <tbody>\n",
       "    <tr>\n",
       "      <th>0</th>\n",
       "      <td>1000001</td>\n",
       "      <td>P00069042</td>\n",
       "      <td>F</td>\n",
       "      <td>0-17</td>\n",
       "      <td>10</td>\n",
       "      <td>A</td>\n",
       "      <td>2</td>\n",
       "      <td>0</td>\n",
       "      <td>3</td>\n",
       "      <td>NaN</td>\n",
       "      <td>NaN</td>\n",
       "      <td>8370</td>\n",
       "    </tr>\n",
       "    <tr>\n",
       "      <th>1</th>\n",
       "      <td>1000001</td>\n",
       "      <td>P00248942</td>\n",
       "      <td>F</td>\n",
       "      <td>0-17</td>\n",
       "      <td>10</td>\n",
       "      <td>A</td>\n",
       "      <td>2</td>\n",
       "      <td>0</td>\n",
       "      <td>1</td>\n",
       "      <td>6.0</td>\n",
       "      <td>14.0</td>\n",
       "      <td>15200</td>\n",
       "    </tr>\n",
       "    <tr>\n",
       "      <th>2</th>\n",
       "      <td>1000001</td>\n",
       "      <td>P00087842</td>\n",
       "      <td>F</td>\n",
       "      <td>0-17</td>\n",
       "      <td>10</td>\n",
       "      <td>A</td>\n",
       "      <td>2</td>\n",
       "      <td>0</td>\n",
       "      <td>12</td>\n",
       "      <td>NaN</td>\n",
       "      <td>NaN</td>\n",
       "      <td>1422</td>\n",
       "    </tr>\n",
       "    <tr>\n",
       "      <th>3</th>\n",
       "      <td>1000001</td>\n",
       "      <td>P00085442</td>\n",
       "      <td>F</td>\n",
       "      <td>0-17</td>\n",
       "      <td>10</td>\n",
       "      <td>A</td>\n",
       "      <td>2</td>\n",
       "      <td>0</td>\n",
       "      <td>12</td>\n",
       "      <td>14.0</td>\n",
       "      <td>NaN</td>\n",
       "      <td>1057</td>\n",
       "    </tr>\n",
       "    <tr>\n",
       "      <th>4</th>\n",
       "      <td>1000002</td>\n",
       "      <td>P00285442</td>\n",
       "      <td>M</td>\n",
       "      <td>55+</td>\n",
       "      <td>16</td>\n",
       "      <td>C</td>\n",
       "      <td>4+</td>\n",
       "      <td>0</td>\n",
       "      <td>8</td>\n",
       "      <td>NaN</td>\n",
       "      <td>NaN</td>\n",
       "      <td>7969</td>\n",
       "    </tr>\n",
       "  </tbody>\n",
       "</table>\n",
       "</div>"
      ],
      "text/plain": [
       "   User_ID Product_ID Gender   Age  Occupation City_Category  \\\n",
       "0  1000001  P00069042      F  0-17          10             A   \n",
       "1  1000001  P00248942      F  0-17          10             A   \n",
       "2  1000001  P00087842      F  0-17          10             A   \n",
       "3  1000001  P00085442      F  0-17          10             A   \n",
       "4  1000002  P00285442      M   55+          16             C   \n",
       "\n",
       "  Stay_In_Current_City_Years  Marital_Status  Product_Category_1  \\\n",
       "0                          2               0                   3   \n",
       "1                          2               0                   1   \n",
       "2                          2               0                  12   \n",
       "3                          2               0                  12   \n",
       "4                         4+               0                   8   \n",
       "\n",
       "   Product_Category_2  Product_Category_3  Purchase  \n",
       "0                 NaN                 NaN      8370  \n",
       "1                 6.0                14.0     15200  \n",
       "2                 NaN                 NaN      1422  \n",
       "3                14.0                 NaN      1057  \n",
       "4                 NaN                 NaN      7969  "
      ]
     },
     "execution_count": 6,
     "metadata": {},
     "output_type": "execute_result"
    }
   ],
   "source": [
    "train = pd.read_csv(train_path)\n",
    "test = pd.read_csv(test_path)\n",
    "train.head()"
   ]
  },
  {
   "cell_type": "code",
   "execution_count": 7,
   "metadata": {
    "colab": {
     "base_uri": "https://localhost:8080/"
    },
    "executionInfo": {
     "elapsed": 8652,
     "status": "ok",
     "timestamp": 1612156638943,
     "user": {
      "displayName": "Abhishek Vaish",
      "photoUrl": "https://lh3.googleusercontent.com/a-/AOh14GgLCsbilkMlHzR7sOdFEeXRdJ50Y_uxYgs-5M3MBA=s64",
      "userId": "03849544386864211174"
     },
     "user_tz": -330
    },
    "id": "E1BUkKHv9zzL",
    "outputId": "5480117d-6101-4c74-b6d8-1263066b96f3"
   },
   "outputs": [
    {
     "data": {
      "text/plain": [
       "550068"
      ]
     },
     "execution_count": 7,
     "metadata": {},
     "output_type": "execute_result"
    }
   ],
   "source": [
    "len(train)"
   ]
  },
  {
   "cell_type": "code",
   "execution_count": 8,
   "metadata": {
    "colab": {
     "base_uri": "https://localhost:8080/"
    },
    "executionInfo": {
     "elapsed": 8216,
     "status": "ok",
     "timestamp": 1612156638944,
     "user": {
      "displayName": "Abhishek Vaish",
      "photoUrl": "https://lh3.googleusercontent.com/a-/AOh14GgLCsbilkMlHzR7sOdFEeXRdJ50Y_uxYgs-5M3MBA=s64",
      "userId": "03849544386864211174"
     },
     "user_tz": -330
    },
    "id": "I7auEmm3-AoD",
    "outputId": "aa07b24d-f00c-4755-9ad2-04f9707550a1"
   },
   "outputs": [
    {
     "name": "stdout",
     "output_type": "stream",
     "text": [
      "<class 'pandas.core.frame.DataFrame'>\n",
      "RangeIndex: 550068 entries, 0 to 550067\n",
      "Data columns (total 12 columns):\n",
      " #   Column                      Non-Null Count   Dtype  \n",
      "---  ------                      --------------   -----  \n",
      " 0   User_ID                     550068 non-null  int64  \n",
      " 1   Product_ID                  550068 non-null  object \n",
      " 2   Gender                      550068 non-null  object \n",
      " 3   Age                         550068 non-null  object \n",
      " 4   Occupation                  550068 non-null  int64  \n",
      " 5   City_Category               550068 non-null  object \n",
      " 6   Stay_In_Current_City_Years  550068 non-null  object \n",
      " 7   Marital_Status              550068 non-null  int64  \n",
      " 8   Product_Category_1          550068 non-null  int64  \n",
      " 9   Product_Category_2          376430 non-null  float64\n",
      " 10  Product_Category_3          166821 non-null  float64\n",
      " 11  Purchase                    550068 non-null  int64  \n",
      "dtypes: float64(2), int64(5), object(5)\n",
      "memory usage: 50.4+ MB\n"
     ]
    }
   ],
   "source": [
    "train.info()"
   ]
  },
  {
   "cell_type": "code",
   "execution_count": 9,
   "metadata": {
    "colab": {
     "base_uri": "https://localhost:8080/",
     "height": 284
    },
    "executionInfo": {
     "elapsed": 7888,
     "status": "ok",
     "timestamp": 1612156638945,
     "user": {
      "displayName": "Abhishek Vaish",
      "photoUrl": "https://lh3.googleusercontent.com/a-/AOh14GgLCsbilkMlHzR7sOdFEeXRdJ50Y_uxYgs-5M3MBA=s64",
      "userId": "03849544386864211174"
     },
     "user_tz": -330
    },
    "id": "Nlx_qbEQ-LMs",
    "outputId": "325c6f02-f122-47f4-8279-6b58744ce005"
   },
   "outputs": [
    {
     "data": {
      "text/html": [
       "<div>\n",
       "<style scoped>\n",
       "    .dataframe tbody tr th:only-of-type {\n",
       "        vertical-align: middle;\n",
       "    }\n",
       "\n",
       "    .dataframe tbody tr th {\n",
       "        vertical-align: top;\n",
       "    }\n",
       "\n",
       "    .dataframe thead th {\n",
       "        text-align: right;\n",
       "    }\n",
       "</style>\n",
       "<table border=\"1\" class=\"dataframe\">\n",
       "  <thead>\n",
       "    <tr style=\"text-align: right;\">\n",
       "      <th></th>\n",
       "      <th>User_ID</th>\n",
       "      <th>Occupation</th>\n",
       "      <th>Marital_Status</th>\n",
       "      <th>Product_Category_1</th>\n",
       "      <th>Product_Category_2</th>\n",
       "      <th>Product_Category_3</th>\n",
       "      <th>Purchase</th>\n",
       "    </tr>\n",
       "  </thead>\n",
       "  <tbody>\n",
       "    <tr>\n",
       "      <th>count</th>\n",
       "      <td>5.500680e+05</td>\n",
       "      <td>550068.000000</td>\n",
       "      <td>550068.000000</td>\n",
       "      <td>550068.000000</td>\n",
       "      <td>376430.000000</td>\n",
       "      <td>166821.000000</td>\n",
       "      <td>550068.000000</td>\n",
       "    </tr>\n",
       "    <tr>\n",
       "      <th>mean</th>\n",
       "      <td>1.003029e+06</td>\n",
       "      <td>8.076707</td>\n",
       "      <td>0.409653</td>\n",
       "      <td>5.404270</td>\n",
       "      <td>9.842329</td>\n",
       "      <td>12.668243</td>\n",
       "      <td>9263.968713</td>\n",
       "    </tr>\n",
       "    <tr>\n",
       "      <th>std</th>\n",
       "      <td>1.727592e+03</td>\n",
       "      <td>6.522660</td>\n",
       "      <td>0.491770</td>\n",
       "      <td>3.936211</td>\n",
       "      <td>5.086590</td>\n",
       "      <td>4.125338</td>\n",
       "      <td>5023.065394</td>\n",
       "    </tr>\n",
       "    <tr>\n",
       "      <th>min</th>\n",
       "      <td>1.000001e+06</td>\n",
       "      <td>0.000000</td>\n",
       "      <td>0.000000</td>\n",
       "      <td>1.000000</td>\n",
       "      <td>2.000000</td>\n",
       "      <td>3.000000</td>\n",
       "      <td>12.000000</td>\n",
       "    </tr>\n",
       "    <tr>\n",
       "      <th>25%</th>\n",
       "      <td>1.001516e+06</td>\n",
       "      <td>2.000000</td>\n",
       "      <td>0.000000</td>\n",
       "      <td>1.000000</td>\n",
       "      <td>5.000000</td>\n",
       "      <td>9.000000</td>\n",
       "      <td>5823.000000</td>\n",
       "    </tr>\n",
       "    <tr>\n",
       "      <th>50%</th>\n",
       "      <td>1.003077e+06</td>\n",
       "      <td>7.000000</td>\n",
       "      <td>0.000000</td>\n",
       "      <td>5.000000</td>\n",
       "      <td>9.000000</td>\n",
       "      <td>14.000000</td>\n",
       "      <td>8047.000000</td>\n",
       "    </tr>\n",
       "    <tr>\n",
       "      <th>75%</th>\n",
       "      <td>1.004478e+06</td>\n",
       "      <td>14.000000</td>\n",
       "      <td>1.000000</td>\n",
       "      <td>8.000000</td>\n",
       "      <td>15.000000</td>\n",
       "      <td>16.000000</td>\n",
       "      <td>12054.000000</td>\n",
       "    </tr>\n",
       "    <tr>\n",
       "      <th>max</th>\n",
       "      <td>1.006040e+06</td>\n",
       "      <td>20.000000</td>\n",
       "      <td>1.000000</td>\n",
       "      <td>20.000000</td>\n",
       "      <td>18.000000</td>\n",
       "      <td>18.000000</td>\n",
       "      <td>23961.000000</td>\n",
       "    </tr>\n",
       "  </tbody>\n",
       "</table>\n",
       "</div>"
      ],
      "text/plain": [
       "            User_ID     Occupation  Marital_Status  Product_Category_1  \\\n",
       "count  5.500680e+05  550068.000000   550068.000000       550068.000000   \n",
       "mean   1.003029e+06       8.076707        0.409653            5.404270   \n",
       "std    1.727592e+03       6.522660        0.491770            3.936211   \n",
       "min    1.000001e+06       0.000000        0.000000            1.000000   \n",
       "25%    1.001516e+06       2.000000        0.000000            1.000000   \n",
       "50%    1.003077e+06       7.000000        0.000000            5.000000   \n",
       "75%    1.004478e+06      14.000000        1.000000            8.000000   \n",
       "max    1.006040e+06      20.000000        1.000000           20.000000   \n",
       "\n",
       "       Product_Category_2  Product_Category_3       Purchase  \n",
       "count       376430.000000       166821.000000  550068.000000  \n",
       "mean             9.842329           12.668243    9263.968713  \n",
       "std              5.086590            4.125338    5023.065394  \n",
       "min              2.000000            3.000000      12.000000  \n",
       "25%              5.000000            9.000000    5823.000000  \n",
       "50%              9.000000           14.000000    8047.000000  \n",
       "75%             15.000000           16.000000   12054.000000  \n",
       "max             18.000000           18.000000   23961.000000  "
      ]
     },
     "execution_count": 9,
     "metadata": {},
     "output_type": "execute_result"
    }
   ],
   "source": [
    "train.describe()"
   ]
  },
  {
   "cell_type": "markdown",
   "metadata": {
    "id": "SrljL6KsKjyn"
   },
   "source": [
    "Check out the missing values and plot that values as a graph and visualize it."
   ]
  },
  {
   "cell_type": "code",
   "execution_count": 12,
   "metadata": {
    "colab": {
     "base_uri": "https://localhost:8080/",
     "height": 558
    },
    "executionInfo": {
     "elapsed": 5209,
     "status": "ok",
     "timestamp": 1612162525215,
     "user": {
      "displayName": "Abhishek Vaish",
      "photoUrl": "https://lh3.googleusercontent.com/a-/AOh14GgLCsbilkMlHzR7sOdFEeXRdJ50Y_uxYgs-5M3MBA=s64",
      "userId": "03849544386864211174"
     },
     "user_tz": -330
    },
    "id": "rA87_d6r-OvW",
    "outputId": "5416a2d6-2e3d-4deb-a56d-451941b8bbc3"
   },
   "outputs": [
    {
     "data": {
      "image/png": "[encoded data removed]",
      "text/plain": [
       "<Figure size 1800x720 with 2 Axes>"
      ]
     },
     "metadata": {},
     "output_type": "display_data"
    }
   ],
   "source": [
    "fig = missingno.matrix(train);\n",
    "fig_save = fig.get_figure()\n",
    "fig_save.savefig(IMG_PATH + '/missingno_matrix.png')"
   ]
  },
  {
   "cell_type": "code",
   "execution_count": 13,
   "metadata": {
    "colab": {
     "base_uri": "https://localhost:8080/"
    },
    "executionInfo": {
     "elapsed": 9655,
     "status": "ok",
     "timestamp": 1612156642040,
     "user": {
      "displayName": "Abhishek Vaish",
      "photoUrl": "https://lh3.googleusercontent.com/a-/AOh14GgLCsbilkMlHzR7sOdFEeXRdJ50Y_uxYgs-5M3MBA=s64",
      "userId": "03849544386864211174"
     },
     "user_tz": -330
    },
    "id": "4P0ubFNr-a1J",
    "outputId": "03e3451a-c97d-49e1-925d-7660dcd9db03"
   },
   "outputs": [
    {
     "data": {
      "text/plain": [
       "User_ID                            0\n",
       "Product_ID                         0\n",
       "Gender                             0\n",
       "Age                                0\n",
       "Occupation                         0\n",
       "City_Category                      0\n",
       "Stay_In_Current_City_Years         0\n",
       "Marital_Status                     0\n",
       "Product_Category_1                 0\n",
       "Product_Category_2            173638\n",
       "Product_Category_3            383247\n",
       "Purchase                           0\n",
       "dtype: int64"
      ]
     },
     "execution_count": 13,
     "metadata": {},
     "output_type": "execute_result"
    }
   ],
   "source": [
    "train.isna().sum()"
   ]
  },
  {
   "cell_type": "markdown",
   "metadata": {
    "id": "UO6BDwR1_GMm"
   },
   "source": [
    "Since we have a lots of missing value in the `Product_Category_2` and `Product_Category_3` so we remove these value from the dataset."
   ]
  },
  {
   "cell_type": "code",
   "execution_count": 14,
   "metadata": {
    "id": "wWJRaX1K-51F"
   },
   "outputs": [],
   "source": [
    "train = train.drop(['Product_Category_2', 'Product_Category_3'], axis=1)\n",
    "test = test.drop(['Product_Category_2', 'Product_Category_3'], axis=1)"
   ]
  },
  {
   "cell_type": "markdown",
   "metadata": {
    "id": "Jx7rjZyo_TUA"
   },
   "source": [
    "We prepare our data for training the machine learning model. Lets save the dataset and perform the data evaluation on the data that we have created."
   ]
  },
  {
   "cell_type": "code",
   "execution_count": 15,
   "metadata": {
    "id": "Dd2J5GFT_aI-"
   },
   "outputs": [],
   "source": [
    "train.to_csv(PATH+'/train_updated.csv', index=False)\n",
    "test.to_csv(PATH+'/test_updated.csv', index=False)"
   ]
  },
  {
   "cell_type": "code",
   "execution_count": 16,
   "metadata": {
    "id": "VqxdhwVNJ58R"
   },
   "outputs": [],
   "source": [
    "train_df = pd.read_csv(PATH+'/train_updated.csv')\n",
    "test_df = pd.read_csv(PATH+'/test_updated.csv')"
   ]
  },
  {
   "cell_type": "code",
   "execution_count": 17,
   "metadata": {
    "colab": {
     "base_uri": "https://localhost:8080/"
    },
    "executionInfo": {
     "elapsed": 27056,
     "status": "ok",
     "timestamp": 1612156674754,
     "user": {
      "displayName": "Abhishek Vaish",
      "photoUrl": "https://lh3.googleusercontent.com/a-/AOh14GgLCsbilkMlHzR7sOdFEeXRdJ50Y_uxYgs-5M3MBA=s64",
      "userId": "03849544386864211174"
     },
     "user_tz": -330
    },
    "id": "RnC2or0FLabC",
    "outputId": "0d27861d-0996-4dba-9a92-e76a12d7f924"
   },
   "outputs": [
    {
     "data": {
      "text/plain": [
       "(3653, 3512)"
      ]
     },
     "execution_count": 17,
     "metadata": {},
     "output_type": "execute_result"
    }
   ],
   "source": [
    "len(pd.get_dummies(train_df).columns), len(pd.get_dummies(test_df).columns)"
   ]
  },
  {
   "cell_type": "code",
   "execution_count": 18,
   "metadata": {
    "colab": {
     "base_uri": "https://localhost:8080/",
     "height": 195
    },
    "executionInfo": {
     "elapsed": 1352,
     "status": "ok",
     "timestamp": 1612156693154,
     "user": {
      "displayName": "Abhishek Vaish",
      "photoUrl": "https://lh3.googleusercontent.com/a-/AOh14GgLCsbilkMlHzR7sOdFEeXRdJ50Y_uxYgs-5M3MBA=s64",
      "userId": "03849544386864211174"
     },
     "user_tz": -330
    },
    "id": "g9ND_LQpL6L4",
    "outputId": "faaf54cb-1a34-4f9e-a288-8513e5bd9edc"
   },
   "outputs": [
    {
     "data": {
      "text/html": [
       "<div>\n",
       "<style scoped>\n",
       "    .dataframe tbody tr th:only-of-type {\n",
       "        vertical-align: middle;\n",
       "    }\n",
       "\n",
       "    .dataframe tbody tr th {\n",
       "        vertical-align: top;\n",
       "    }\n",
       "\n",
       "    .dataframe thead th {\n",
       "        text-align: right;\n",
       "    }\n",
       "</style>\n",
       "<table border=\"1\" class=\"dataframe\">\n",
       "  <thead>\n",
       "    <tr style=\"text-align: right;\">\n",
       "      <th></th>\n",
       "      <th>User_ID</th>\n",
       "      <th>Product_ID</th>\n",
       "      <th>Gender</th>\n",
       "      <th>Age</th>\n",
       "      <th>Occupation</th>\n",
       "      <th>City_Category</th>\n",
       "      <th>Stay_In_Current_City_Years</th>\n",
       "      <th>Marital_Status</th>\n",
       "      <th>Product_Category_1</th>\n",
       "      <th>Purchase</th>\n",
       "    </tr>\n",
       "  </thead>\n",
       "  <tbody>\n",
       "    <tr>\n",
       "      <th>0</th>\n",
       "      <td>1000001</td>\n",
       "      <td>P00069042</td>\n",
       "      <td>F</td>\n",
       "      <td>0-17</td>\n",
       "      <td>10</td>\n",
       "      <td>A</td>\n",
       "      <td>2</td>\n",
       "      <td>0</td>\n",
       "      <td>3</td>\n",
       "      <td>8370</td>\n",
       "    </tr>\n",
       "    <tr>\n",
       "      <th>1</th>\n",
       "      <td>1000001</td>\n",
       "      <td>P00248942</td>\n",
       "      <td>F</td>\n",
       "      <td>0-17</td>\n",
       "      <td>10</td>\n",
       "      <td>A</td>\n",
       "      <td>2</td>\n",
       "      <td>0</td>\n",
       "      <td>1</td>\n",
       "      <td>15200</td>\n",
       "    </tr>\n",
       "    <tr>\n",
       "      <th>2</th>\n",
       "      <td>1000001</td>\n",
       "      <td>P00087842</td>\n",
       "      <td>F</td>\n",
       "      <td>0-17</td>\n",
       "      <td>10</td>\n",
       "      <td>A</td>\n",
       "      <td>2</td>\n",
       "      <td>0</td>\n",
       "      <td>12</td>\n",
       "      <td>1422</td>\n",
       "    </tr>\n",
       "    <tr>\n",
       "      <th>3</th>\n",
       "      <td>1000001</td>\n",
       "      <td>P00085442</td>\n",
       "      <td>F</td>\n",
       "      <td>0-17</td>\n",
       "      <td>10</td>\n",
       "      <td>A</td>\n",
       "      <td>2</td>\n",
       "      <td>0</td>\n",
       "      <td>12</td>\n",
       "      <td>1057</td>\n",
       "    </tr>\n",
       "    <tr>\n",
       "      <th>4</th>\n",
       "      <td>1000002</td>\n",
       "      <td>P00285442</td>\n",
       "      <td>M</td>\n",
       "      <td>55+</td>\n",
       "      <td>16</td>\n",
       "      <td>C</td>\n",
       "      <td>4+</td>\n",
       "      <td>0</td>\n",
       "      <td>8</td>\n",
       "      <td>7969</td>\n",
       "    </tr>\n",
       "  </tbody>\n",
       "</table>\n",
       "</div>"
      ],
      "text/plain": [
       "   User_ID Product_ID Gender   Age  Occupation City_Category  \\\n",
       "0  1000001  P00069042      F  0-17          10             A   \n",
       "1  1000001  P00248942      F  0-17          10             A   \n",
       "2  1000001  P00087842      F  0-17          10             A   \n",
       "3  1000001  P00085442      F  0-17          10             A   \n",
       "4  1000002  P00285442      M   55+          16             C   \n",
       "\n",
       "  Stay_In_Current_City_Years  Marital_Status  Product_Category_1  Purchase  \n",
       "0                          2               0                   3      8370  \n",
       "1                          2               0                   1     15200  \n",
       "2                          2               0                  12      1422  \n",
       "3                          2               0                  12      1057  \n",
       "4                         4+               0                   8      7969  "
      ]
     },
     "execution_count": 18,
     "metadata": {},
     "output_type": "execute_result"
    }
   ],
   "source": [
    "train_df.head()"
   ]
  },
  {
   "cell_type": "markdown",
   "metadata": {
    "id": "2qFkRggBMbli"
   },
   "source": [
    "## Data Evaluation\n",
    "Lets perform the Data Evaluation to understand the data and know which features are highly important for the target variable."
   ]
  },
  {
   "cell_type": "markdown",
   "metadata": {
    "id": "EdRWDTa4CERP"
   },
   "source": [
    "Gender Evaluation \n",
    "\n",
    "**Description:** Sex of User\n"
   ]
  },
  {
   "cell_type": "code",
   "execution_count": 19,
   "metadata": {
    "colab": {
     "base_uri": "https://localhost:8080/",
     "height": 99
    },
    "executionInfo": {
     "elapsed": 2455,
     "status": "ok",
     "timestamp": 1612157402761,
     "user": {
      "displayName": "Abhishek Vaish",
      "photoUrl": "https://lh3.googleusercontent.com/a-/AOh14GgLCsbilkMlHzR7sOdFEeXRdJ50Y_uxYgs-5M3MBA=s64",
      "userId": "03849544386864211174"
     },
     "user_tz": -330
    },
    "id": "5n5O8NKNCSJr",
    "outputId": "d9399e71-2b9a-47cd-8497-117ac2aa9678"
   },
   "outputs": [
    {
     "data": {
      "image/png": "[encoded data removed]",
      "text/plain": [
       "<Figure size 576x72 with 1 Axes>"
      ]
     },
     "metadata": {},
     "output_type": "display_data"
    }
   ],
   "source": [
    "pd.DataFrame(train_df.Gender.value_counts()).plot(kind='barh', width=0.3, figsize=(8, 1));\n"
   ]
  },
  {
   "cell_type": "markdown",
   "metadata": {
    "id": "04zHA-lvCleq"
   },
   "source": [
    "So we see that we have more number of male customer involving in the Black Friday Sale.\n",
    "\n",
    "Age Evaluation\n",
    "\n",
    "**Description:** Age in bins"
   ]
  },
  {
   "cell_type": "code",
   "execution_count": 20,
   "metadata": {
    "colab": {
     "base_uri": "https://localhost:8080/",
     "height": 278
    },
    "executionInfo": {
     "elapsed": 1428,
     "status": "ok",
     "timestamp": 1612157566149,
     "user": {
      "displayName": "Abhishek Vaish",
      "photoUrl": "https://lh3.googleusercontent.com/a-/AOh14GgLCsbilkMlHzR7sOdFEeXRdJ50Y_uxYgs-5M3MBA=s64",
      "userId": "03849544386864211174"
     },
     "user_tz": -330
    },
    "id": "zg7v7zCSExt3",
    "outputId": "2d2834e4-c812-4a82-cabd-c66bf7304014"
   },
   "outputs": [
    {
     "data": {
      "image/png": "[encoded data removed]",
      "text/plain": [
       "<Figure size 432x288 with 1 Axes>"
      ]
     },
     "metadata": {},
     "output_type": "display_data"
    }
   ],
   "source": [
    "pd.DataFrame(train_df.Age.value_counts()).plot(kind=\"bar\", width=0.3);"
   ]
  },
  {
   "cell_type": "markdown",
   "metadata": {
    "id": "5Oy1yAM-E1Yr"
   },
   "source": [
    "So, we have a more number of customer lies in the age group of 26 to 35 years old that are taking intrest in the sale.\n",
    "\n",
    "Ocupation Evaluation\n",
    "\n",
    "**Description:** Occupation (Masked)"
   ]
  },
  {
   "cell_type": "code",
   "execution_count": 21,
   "metadata": {
    "colab": {
     "base_uri": "https://localhost:8080/",
     "height": 276
    },
    "executionInfo": {
     "elapsed": 4923,
     "status": "ok",
     "timestamp": 1612158065025,
     "user": {
      "displayName": "Abhishek Vaish",
      "photoUrl": "https://lh3.googleusercontent.com/a-/AOh14GgLCsbilkMlHzR7sOdFEeXRdJ50Y_uxYgs-5M3MBA=s64",
      "userId": "03849544386864211174"
     },
     "user_tz": -330
    },
    "id": "9pK_n2TGGWl_",
    "outputId": "f60a31d4-f843-4c89-ffbb-e91649e02002"
   },
   "outputs": [
    {
     "data": {
      "image/png": "[encoded data removed]",
      "text/plain": [
       "<Figure size 432x288 with 1 Axes>"
      ]
     },
     "metadata": {},
     "output_type": "display_data"
    }
   ],
   "source": [
    "sns.distplot(train_df.Occupation);"
   ]
  },
  {
   "cell_type": "markdown",
   "metadata": {
    "id": "oHIUlByCGZss"
   },
   "source": [
    "As we see that occupation label with the value 4 have the highest number of density. Till now we dont know the meaning of this number as this is not mention in the competition desription.\n",
    "\n",
    "City Evaluation\n",
    "\n",
    "**Description:** Category of the City (A,B,C)"
   ]
  },
  {
   "cell_type": "code",
   "execution_count": 22,
   "metadata": {
    "colab": {
     "base_uri": "https://localhost:8080/",
     "height": 207
    },
    "executionInfo": {
     "elapsed": 1215,
     "status": "ok",
     "timestamp": 1612158383532,
     "user": {
      "displayName": "Abhishek Vaish",
      "photoUrl": "https://lh3.googleusercontent.com/a-/AOh14GgLCsbilkMlHzR7sOdFEeXRdJ50Y_uxYgs-5M3MBA=s64",
      "userId": "03849544386864211174"
     },
     "user_tz": -330
    },
    "id": "hJ-_UFYSGny2",
    "outputId": "7d7c7a7e-b81c-4537-a2cd-40e1646e843b"
   },
   "outputs": [
    {
     "data": {
      "image/png": "[encoded data removed]",
      "text/plain": [
       "<Figure size 576x216 with 1 Axes>"
      ]
     },
     "metadata": {},
     "output_type": "display_data"
    }
   ],
   "source": [
    "pd.DataFrame(train_df.City_Category.value_counts()).plot(kind='barh', width=0.3, figsize=(8, 3));"
   ]
  },
  {
   "cell_type": "markdown",
   "metadata": {
    "id": "QaTQitk_H2h3"
   },
   "source": [
    "So, City with B value have the maximum number of customer belonging to that are purchasing the products from the Black Friday Sale.\n",
    "\n",
    "Marital Status Evaluation\n",
    "\n",
    "**Description:** Marital Status"
   ]
  },
  {
   "cell_type": "code",
   "execution_count": 23,
   "metadata": {
    "colab": {
     "base_uri": "https://localhost:8080/",
     "height": 276
    },
    "executionInfo": {
     "elapsed": 6433,
     "status": "ok",
     "timestamp": 1612158649468,
     "user": {
      "displayName": "Abhishek Vaish",
      "photoUrl": "https://lh3.googleusercontent.com/a-/AOh14GgLCsbilkMlHzR7sOdFEeXRdJ50Y_uxYgs-5M3MBA=s64",
      "userId": "03849544386864211174"
     },
     "user_tz": -330
    },
    "id": "ZxZYSuPiIzns",
    "outputId": "ab157b7f-c703-4ac6-d543-cca0a3ac923d"
   },
   "outputs": [
    {
     "data": {
      "image/png": "[encoded data removed]",
      "text/plain": [
       "<Figure size 432x288 with 1 Axes>"
      ]
     },
     "metadata": {},
     "output_type": "display_data"
    }
   ],
   "source": [
    "sns.distplot(train_df.Marital_Status);"
   ]
  },
  {
   "cell_type": "markdown",
   "metadata": {
    "id": "2AMHwdIyJHjC"
   },
   "source": [
    "So, most of the customer not married (assume by us) are involving in the sale.\n",
    "\n",
    "Product Category 1 Evaluation\n",
    "\n",
    "**Description:** Product Category (Masked)"
   ]
  },
  {
   "cell_type": "code",
   "execution_count": 24,
   "metadata": {
    "colab": {
     "base_uri": "https://localhost:8080/",
     "height": 276
    },
    "executionInfo": {
     "elapsed": 6700,
     "status": "ok",
     "timestamp": 1612158834903,
     "user": {
      "displayName": "Abhishek Vaish",
      "photoUrl": "https://lh3.googleusercontent.com/a-/AOh14GgLCsbilkMlHzR7sOdFEeXRdJ50Y_uxYgs-5M3MBA=s64",
      "userId": "03849544386864211174"
     },
     "user_tz": -330
    },
    "id": "XIG3AjJyJq3A",
    "outputId": "e265448a-6234-4c08-a980-d9ca0abe17fa"
   },
   "outputs": [
    {
     "data": {
      "image/png": "[encoded data removed]",
      "text/plain": [
       "<Figure size 432x288 with 1 Axes>"
      ]
     },
     "metadata": {},
     "output_type": "display_data"
    }
   ],
   "source": [
    "sns.distplot(train_df.Product_Category_1);"
   ]
  },
  {
   "cell_type": "code",
   "execution_count": 25,
   "metadata": {
    "colab": {
     "base_uri": "https://localhost:8080/",
     "height": 276
    },
    "executionInfo": {
     "elapsed": 50945,
     "status": "ok",
     "timestamp": 1612159104280,
     "user": {
      "displayName": "Abhishek Vaish",
      "photoUrl": "https://lh3.googleusercontent.com/a-/AOh14GgLCsbilkMlHzR7sOdFEeXRdJ50Y_uxYgs-5M3MBA=s64",
      "userId": "03849544386864211174"
     },
     "user_tz": -330
    },
    "id": "6Dh0KXfFJ1_c",
    "outputId": "80c242e6-5294-47ea-bb10-eed3c6aa94ae"
   },
   "outputs": [
    {
     "data": {
      "image/png": "[encoded data removed]",
      "text/plain": [
       "<Figure size 432x288 with 1 Axes>"
      ]
     },
     "metadata": {},
     "output_type": "display_data"
    }
   ],
   "source": [
    "sns.countplot(train_df.Product_ID);"
   ]
  },
  {
   "cell_type": "code",
   "execution_count": 26,
   "metadata": {
    "colab": {
     "base_uri": "https://localhost:8080/",
     "height": 344
    },
    "executionInfo": {
     "elapsed": 1333,
     "status": "ok",
     "timestamp": 1612159372238,
     "user": {
      "displayName": "Abhishek Vaish",
      "photoUrl": "https://lh3.googleusercontent.com/a-/AOh14GgLCsbilkMlHzR7sOdFEeXRdJ50Y_uxYgs-5M3MBA=s64",
      "userId": "03849544386864211174"
     },
     "user_tz": -330
    },
    "id": "P4GV-ayZKe7j",
    "outputId": "96a03f0a-1668-4781-d0bb-833b7f02a563"
   },
   "outputs": [
    {
     "data": {
      "image/png": "[encoded data removed]",
      "text/plain": [
       "<Figure size 432x288 with 1 Axes>"
      ]
     },
     "metadata": {},
     "output_type": "display_data"
    }
   ],
   "source": [
    "sns.heatmap(train_df.corr(), annot=True, cbar=False, cmap='OrRd');"
   ]
  },
  {
   "cell_type": "markdown",
   "metadata": {
    "id": "Vjnob7r6LeF6"
   },
   "source": [
    "Lets plot the graph between all the positive value and understand the realtion between them.\n",
    "\n",
    "Plot the graph between the `Purchase` and the `Occupation` labels."
   ]
  },
  {
   "cell_type": "code",
   "execution_count": 27,
   "metadata": {
    "colab": {
     "base_uri": "https://localhost:8080/",
     "height": 265
    },
    "executionInfo": {
     "elapsed": 5174,
     "status": "ok",
     "timestamp": 1612160083397,
     "user": {
      "displayName": "Abhishek Vaish",
      "photoUrl": "https://lh3.googleusercontent.com/a-/AOh14GgLCsbilkMlHzR7sOdFEeXRdJ50Y_uxYgs-5M3MBA=s64",
      "userId": "03849544386864211174"
     },
     "user_tz": -330
    },
    "id": "ynJy_vc8MZmN",
    "outputId": "5039ed92-36df-4835-d2c4-06f7cdce951b"
   },
   "outputs": [
    {
     "data": {
      "image/png": "[encoded data removed]",
      "text/plain": [
       "<Figure size 432x288 with 1 Axes>"
      ]
     },
     "metadata": {},
     "output_type": "display_data"
    }
   ],
   "source": [
    "sns.distplot(pd.crosstab(train_df.Purchase, train_df.Occupation));"
   ]
  },
  {
   "cell_type": "markdown",
   "metadata": {
    "id": "Uc1ZrUv0PrTT"
   },
   "source": [
    "Now plot the graph between the `Marital Status` and the `Occupation` and see the realtion between them."
   ]
  },
  {
   "cell_type": "code",
   "execution_count": 28,
   "metadata": {
    "colab": {
     "base_uri": "https://localhost:8080/",
     "height": 276
    },
    "executionInfo": {
     "elapsed": 4982,
     "status": "ok",
     "timestamp": 1612160322698,
     "user": {
      "displayName": "Abhishek Vaish",
      "photoUrl": "https://lh3.googleusercontent.com/a-/AOh14GgLCsbilkMlHzR7sOdFEeXRdJ50Y_uxYgs-5M3MBA=s64",
      "userId": "03849544386864211174"
     },
     "user_tz": -330
    },
    "id": "XginzsEOMgHA",
    "outputId": "39268cef-94a0-4d48-809d-5336a478bb62"
   },
   "outputs": [
    {
     "data": {
      "image/png": "[encoded data removed]",
      "text/plain": [
       "<Figure size 432x288 with 1 Axes>"
      ]
     },
     "metadata": {},
     "output_type": "display_data"
    }
   ],
   "source": [
    "sns.distplot(pd.DataFrame(train_df['Marital_Status'], train_df['Occupation']));\n",
    "plt.xlabel('Marital Status')\n",
    "plt.ylabel('Occupation');"
   ]
  },
  {
   "cell_type": "markdown",
   "metadata": {
    "id": "54jQtwRPNqFP"
   },
   "source": [
    "## 4. Feature Engineering\n",
    "In this section we manipulate the data and convert the categorical data into numerical data."
   ]
  },
  {
   "cell_type": "code",
   "execution_count": 51,
   "metadata": {},
   "outputs": [],
   "source": [
    "# Convert the Gender label to numerical values\n",
    "gender = pd.get_dummies(train_df.Gender)\n",
    "train_df['Gender_F'] = gender.F\n",
    "train_df['Gender_M'] = gender.M"
   ]
  },
  {
   "cell_type": "code",
   "execution_count": 54,
   "metadata": {},
   "outputs": [],
   "source": [
    "# remove the Gender label from the dataset\n",
    "train_df.drop('Gender', axis=1, inplace=True)"
   ]
  },
  {
   "cell_type": "code",
   "execution_count": 59,
   "metadata": {},
   "outputs": [],
   "source": [
    "# Convert the Age label to numerical values\n",
    "\n",
    "# create a dictonary containing the key as a unique value of age label and value as a number\n",
    "age_mapping = {\n",
    "    \"0-17\": 1,\n",
    "    \"55+\": 2,\n",
    "    \"26-35\": 3,\n",
    "    \"46-50\": 4,\n",
    "    \"51-55\": 5,\n",
    "    \"36-45\": 6,\n",
    "    \"18-25\": 7\n",
    "}\n",
    "\n",
    "# map the above dictonary to the original dataset\n",
    "train_df.Age = train_df.Age.map(age_mapping)"
   ]
  },
  {
   "cell_type": "code",
   "execution_count": 65,
   "metadata": {},
   "outputs": [],
   "source": [
    "# Convert the City Category to numerical values\n",
    "\n",
    "# create a dictonary containing the key as a unique value of city category label and value as a number\n",
    "city_mapping = {\n",
    "    \"A\": 1,\n",
    "    \"B\": 2,\n",
    "    \"C\": 3\n",
    "}\n",
    "\n",
    "# map the above dictonary to the original dataset\n",
    "train_df.City_Category = train_df.City_Category.map(city_mapping)"
   ]
  },
  {
   "cell_type": "code",
   "execution_count": 69,
   "metadata": {},
   "outputs": [],
   "source": [
    "# Convert the City Category to numerical values\n",
    "\n",
    "# create a dictonary containing the key as a unique value of stay_in_current_city_years label and value as a number\n",
    "current_mapping = {\n",
    "    \"2\": 1,\n",
    "    \"4+\": 2,\n",
    "    \"3\": 3,\n",
    "    \"1\": 4,\n",
    "    \"0\": 5\n",
    "}\n",
    "# map the above dictonary to the original dataset\n",
    "train_df.Stay_In_Current_City_Years = train_df.Stay_In_Current_City_Years.map(current_mapping)"
   ]
  },
  {
   "cell_type": "code",
   "execution_count": 70,
   "metadata": {},
   "outputs": [
    {
     "name": "stdout",
     "output_type": "stream",
     "text": [
      "<class 'pandas.core.frame.DataFrame'>\n",
      "RangeIndex: 550068 entries, 0 to 550067\n",
      "Data columns (total 11 columns):\n",
      " #   Column                      Non-Null Count   Dtype \n",
      "---  ------                      --------------   ----- \n",
      " 0   User_ID                     550068 non-null  int64 \n",
      " 1   Product_ID                  550068 non-null  object\n",
      " 2   Age                         550068 non-null  int64 \n",
      " 3   Occupation                  550068 non-null  int64 \n",
      " 4   City_Category               550068 non-null  int64 \n",
      " 5   Stay_In_Current_City_Years  550068 non-null  int64 \n",
      " 6   Marital_Status              550068 non-null  int64 \n",
      " 7   Product_Category_1          550068 non-null  int64 \n",
      " 8   Purchase                    550068 non-null  int64 \n",
      " 9   Gender_F                    550068 non-null  uint8 \n",
      " 10  Gender_M                    550068 non-null  uint8 \n",
      "dtypes: int64(8), object(1), uint8(2)\n",
      "memory usage: 38.8+ MB\n"
     ]
    }
   ],
   "source": [
    "train_df.info()"
   ]
  },
  {
   "cell_type": "code",
   "execution_count": 80,
   "metadata": {},
   "outputs": [],
   "source": [
    "label_encoder = LabelEncoder()\n",
    "train_df.Product_ID = label_encoder.fit_transform(train_df.Product_ID.values)"
   ]
  },
  {
   "cell_type": "markdown",
   "metadata": {},
   "source": [
    "So, we have converted all our values to numerical data and we don't have missing value in our dataset. Lets save this dataset and train our machine learning model."
   ]
  },
  {
   "cell_type": "code",
   "execution_count": 83,
   "metadata": {},
   "outputs": [],
   "source": [
    "train_df.to_csv('train_numerical.csv', index=False)"
   ]
  },
  {
   "cell_type": "code",
   "execution_count": 4,
   "metadata": {},
   "outputs": [
    {
     "data": {
      "text/html": [
       "<div>\n",
       "<style scoped>\n",
       "    .dataframe tbody tr th:only-of-type {\n",
       "        vertical-align: middle;\n",
       "    }\n",
       "\n",
       "    .dataframe tbody tr th {\n",
       "        vertical-align: top;\n",
       "    }\n",
       "\n",
       "    .dataframe thead th {\n",
       "        text-align: right;\n",
       "    }\n",
       "</style>\n",
       "<table border=\"1\" class=\"dataframe\">\n",
       "  <thead>\n",
       "    <tr style=\"text-align: right;\">\n",
       "      <th></th>\n",
       "      <th>User_ID</th>\n",
       "      <th>Product_ID</th>\n",
       "      <th>Age</th>\n",
       "      <th>Occupation</th>\n",
       "      <th>City_Category</th>\n",
       "      <th>Stay_In_Current_City_Years</th>\n",
       "      <th>Marital_Status</th>\n",
       "      <th>Product_Category_1</th>\n",
       "      <th>Purchase</th>\n",
       "      <th>Gender_F</th>\n",
       "      <th>Gender_M</th>\n",
       "    </tr>\n",
       "  </thead>\n",
       "  <tbody>\n",
       "    <tr>\n",
       "      <th>0</th>\n",
       "      <td>1000001</td>\n",
       "      <td>672</td>\n",
       "      <td>1</td>\n",
       "      <td>10</td>\n",
       "      <td>1</td>\n",
       "      <td>1</td>\n",
       "      <td>0</td>\n",
       "      <td>3</td>\n",
       "      <td>8370</td>\n",
       "      <td>1</td>\n",
       "      <td>0</td>\n",
       "    </tr>\n",
       "    <tr>\n",
       "      <th>1</th>\n",
       "      <td>1000001</td>\n",
       "      <td>2376</td>\n",
       "      <td>1</td>\n",
       "      <td>10</td>\n",
       "      <td>1</td>\n",
       "      <td>1</td>\n",
       "      <td>0</td>\n",
       "      <td>1</td>\n",
       "      <td>15200</td>\n",
       "      <td>1</td>\n",
       "      <td>0</td>\n",
       "    </tr>\n",
       "    <tr>\n",
       "      <th>2</th>\n",
       "      <td>1000001</td>\n",
       "      <td>852</td>\n",
       "      <td>1</td>\n",
       "      <td>10</td>\n",
       "      <td>1</td>\n",
       "      <td>1</td>\n",
       "      <td>0</td>\n",
       "      <td>12</td>\n",
       "      <td>1422</td>\n",
       "      <td>1</td>\n",
       "      <td>0</td>\n",
       "    </tr>\n",
       "    <tr>\n",
       "      <th>3</th>\n",
       "      <td>1000001</td>\n",
       "      <td>828</td>\n",
       "      <td>1</td>\n",
       "      <td>10</td>\n",
       "      <td>1</td>\n",
       "      <td>1</td>\n",
       "      <td>0</td>\n",
       "      <td>12</td>\n",
       "      <td>1057</td>\n",
       "      <td>1</td>\n",
       "      <td>0</td>\n",
       "    </tr>\n",
       "    <tr>\n",
       "      <th>4</th>\n",
       "      <td>1000002</td>\n",
       "      <td>2734</td>\n",
       "      <td>2</td>\n",
       "      <td>16</td>\n",
       "      <td>3</td>\n",
       "      <td>2</td>\n",
       "      <td>0</td>\n",
       "      <td>8</td>\n",
       "      <td>7969</td>\n",
       "      <td>0</td>\n",
       "      <td>1</td>\n",
       "    </tr>\n",
       "  </tbody>\n",
       "</table>\n",
       "</div>"
      ],
      "text/plain": [
       "   User_ID  Product_ID  Age  Occupation  City_Category  \\\n",
       "0  1000001         672    1          10              1   \n",
       "1  1000001        2376    1          10              1   \n",
       "2  1000001         852    1          10              1   \n",
       "3  1000001         828    1          10              1   \n",
       "4  1000002        2734    2          16              3   \n",
       "\n",
       "   Stay_In_Current_City_Years  Marital_Status  Product_Category_1  Purchase  \\\n",
       "0                           1               0                   3      8370   \n",
       "1                           1               0                   1     15200   \n",
       "2                           1               0                  12      1422   \n",
       "3                           1               0                  12      1057   \n",
       "4                           2               0                   8      7969   \n",
       "\n",
       "   Gender_F  Gender_M  \n",
       "0         1         0  \n",
       "1         1         0  \n",
       "2         1         0  \n",
       "3         1         0  \n",
       "4         0         1  "
      ]
     },
     "execution_count": 4,
     "metadata": {},
     "output_type": "execute_result"
    }
   ],
   "source": [
    "train = pd.read_csv('./data/train_numerical.csv')\n",
    "train.head()"
   ]
  },
  {
   "cell_type": "markdown",
   "metadata": {},
   "source": [
    "## 5. Modeling\n",
    "In this section we train our machine learning model using the different scikit-learn machine learning."
   ]
  },
  {
   "cell_type": "code",
   "execution_count": 26,
   "metadata": {},
   "outputs": [],
   "source": [
    "# convert the data into X and y\n",
    "X = train.drop('Purchase', axis=1)\n",
    "y = train.Purchase\n",
    "\n",
    "# validate the random state\n",
    "np.random.seed(42)\n",
    "\n",
    "# split the data into training and validation dataset\n",
    "X_train, X_val, y_train, y_val = train_test_split(X, y, test_size=0.2)"
   ]
  },
  {
   "cell_type": "code",
   "execution_count": 6,
   "metadata": {},
   "outputs": [],
   "source": [
    "def train_model(model, X_train=X_train, y_train=y_train, X_val=X_val, y_val=y_val):\n",
    "    \"\"\"\n",
    "    This function is used to train the machine learning model \n",
    "    and score the accuracy on the basis of Root Mean Square Error.\n",
    "    model: Regression model\n",
    "    X_train: training dataset\n",
    "    y_train: training target\n",
    "    X_val: validation dataset\n",
    "    y_val: validation target\n",
    "    \"\"\"\n",
    "    \n",
    "    model.fit(X_train, y_train)\n",
    "    y_preds = model.predict(X_val)\n",
    "    score = np.sqrt(mean_squared_error(y_val, y_preds))\n",
    "    return score"
   ]
  },
  {
   "cell_type": "code",
   "execution_count": 7,
   "metadata": {},
   "outputs": [],
   "source": [
    "# declaring the regressor model\n",
    "rf_model = RandomForestRegressor()\n",
    "dt_model = DecisionTreeRegressor()\n",
    "rr_model = Ridge()\n",
    "sgd_model = SGDRegressor()"
   ]
  },
  {
   "cell_type": "code",
   "execution_count": 8,
   "metadata": {},
   "outputs": [],
   "source": [
    "# train and score the model\n",
    "rf_score = train_model(rf_model)\n",
    "dt_score = train_model(dt_model)\n",
    "rr_score = train_model(rr_model)\n",
    "sgd_score = train_model(sgd_model)"
   ]
  },
  {
   "cell_type": "code",
   "execution_count": 9,
   "metadata": {},
   "outputs": [],
   "source": [
    "# create a dictonary of scores\n",
    "score = {\n",
    "    \"Random Forest Regressor\": rf_score,\n",
    "    \"Decision Tree Regressor\": dt_score,\n",
    "    \"Ridge Regressor\": rr_score,\n",
    "}"
   ]
  },
  {
   "cell_type": "code",
   "execution_count": 15,
   "metadata": {},
   "outputs": [
    {
     "data": {
      "image/png": "[encoded data removed]",
      "text/plain": [
       "<Figure size 432x288 with 1 Axes>"
      ]
     },
     "metadata": {},
     "output_type": "display_data"
    }
   ],
   "source": [
    "plt.bar(score.keys(), score.values(), width=0.4)\n",
    "plt.xticks(rotation=45)\n",
    "plt.title('Root Mean Squared Error');"
   ]
  },
  {
   "cell_type": "markdown",
   "metadata": {},
   "source": [
    "So, we are getting good metrics value by using the `RandomForestRegressor` and `DecisionTreeRegressor`. We move forward with these two machine learning model and perform the hyperparameter tuning make this score more lower.\n",
    "\n",
    "## 6. Hyperparameter Tuning\n",
    "In this section, we perform the hyperparameter tuning on the `RandomForestRegressor` and the `DecisionTreeRegressor` to improve the score of the metrics. For this, we create the `Pipeline` using the `RandomizedSearchCV` and `GridSearchCV`.\n",
    "\n",
    "### 6.1 RandomizedSearchCV"
   ]
  },
  {
   "cell_type": "code",
   "execution_count": 36,
   "metadata": {},
   "outputs": [],
   "source": [
    "# create the hyperparameter grid\n",
    "\n",
    "random_grid_rf = {\n",
    "    \"n_estimators\": [100, 200, 500, 700, 1000],\n",
    "    \"max_features\": ['auto', 'sqrt', 'log2', None],\n",
    "}\n",
    "\n",
    "random_grid_dt = {\n",
    "    \"splitter\": ['best', 'random'],\n",
    "    \"max_depth\": np.arange(0, 2, 0.1)\n",
    "}"
   ]
  },
  {
   "cell_type": "code",
   "execution_count": 23,
   "metadata": {},
   "outputs": [],
   "source": [
    "def rmse_scorer(y_preds, y_true=y_val):\n",
    "    score = np.sqrt(mean_squared_error(y_true, y_preds))\n",
    "    return score\n",
    "\n",
    "rmse_score = make_scorer(rmse_scorer)"
   ]
  },
  {
   "cell_type": "code",
   "execution_count": null,
   "metadata": {},
   "outputs": [
    {
     "name": "stdout",
     "output_type": "stream",
     "text": [
      "Fitting 5 folds for each of 10 candidates, totalling 50 fits\n"
     ]
    },
    {
     "name": "stderr",
     "output_type": "stream",
     "text": [
      "[Parallel(n_jobs=-1)]: Using backend LokyBackend with 8 concurrent workers.\n"
     ]
    }
   ],
   "source": [
    "random_model = RandomizedSearchCV(estimator=RandomForestRegressor(), \n",
    "                                  param_distributions=random_grid_rf,\n",
    "                                  cv=5, \n",
    "                                  verbose=True, \n",
    "                                  n_jobs=-1,\n",
    "                                  scoring=rmse_score\n",
    "                                 )\n",
    "\n",
    "random_model.fit(X_train, y_train)"
   ]
  },
  {
   "cell_type": "code",
   "execution_count": 31,
   "metadata": {},
   "outputs": [
    {
     "data": {
      "text/html": [
       "<div>\n",
       "<style scoped>\n",
       "    .dataframe tbody tr th:only-of-type {\n",
       "        vertical-align: middle;\n",
       "    }\n",
       "\n",
       "    .dataframe tbody tr th {\n",
       "        vertical-align: top;\n",
       "    }\n",
       "\n",
       "    .dataframe thead th {\n",
       "        text-align: right;\n",
       "    }\n",
       "</style>\n",
       "<table border=\"1\" class=\"dataframe\">\n",
       "  <thead>\n",
       "    <tr style=\"text-align: right;\">\n",
       "      <th></th>\n",
       "      <th>User_ID</th>\n",
       "      <th>Product_ID</th>\n",
       "      <th>Age</th>\n",
       "      <th>Occupation</th>\n",
       "      <th>City_Category</th>\n",
       "      <th>Stay_In_Current_City_Years</th>\n",
       "      <th>Marital_Status</th>\n",
       "      <th>Product_Category_1</th>\n",
       "      <th>Gender_F</th>\n",
       "      <th>Gender_M</th>\n",
       "    </tr>\n",
       "  </thead>\n",
       "  <tbody>\n",
       "    <tr>\n",
       "      <th>178247</th>\n",
       "      <td>1003576</td>\n",
       "      <td>2228</td>\n",
       "      <td>5</td>\n",
       "      <td>7</td>\n",
       "      <td>2</td>\n",
       "      <td>3</td>\n",
       "      <td>1</td>\n",
       "      <td>1</td>\n",
       "      <td>0</td>\n",
       "      <td>1</td>\n",
       "    </tr>\n",
       "    <tr>\n",
       "      <th>196647</th>\n",
       "      <td>1000342</td>\n",
       "      <td>1305</td>\n",
       "      <td>7</td>\n",
       "      <td>12</td>\n",
       "      <td>3</td>\n",
       "      <td>2</td>\n",
       "      <td>0</td>\n",
       "      <td>5</td>\n",
       "      <td>0</td>\n",
       "      <td>1</td>\n",
       "    </tr>\n",
       "    <tr>\n",
       "      <th>418590</th>\n",
       "      <td>1004386</td>\n",
       "      <td>2782</td>\n",
       "      <td>3</td>\n",
       "      <td>5</td>\n",
       "      <td>2</td>\n",
       "      <td>4</td>\n",
       "      <td>0</td>\n",
       "      <td>8</td>\n",
       "      <td>0</td>\n",
       "      <td>1</td>\n",
       "    </tr>\n",
       "    <tr>\n",
       "      <th>408727</th>\n",
       "      <td>1002931</td>\n",
       "      <td>2631</td>\n",
       "      <td>7</td>\n",
       "      <td>4</td>\n",
       "      <td>2</td>\n",
       "      <td>1</td>\n",
       "      <td>0</td>\n",
       "      <td>8</td>\n",
       "      <td>0</td>\n",
       "      <td>1</td>\n",
       "    </tr>\n",
       "    <tr>\n",
       "      <th>216416</th>\n",
       "      <td>1003434</td>\n",
       "      <td>485</td>\n",
       "      <td>7</td>\n",
       "      <td>4</td>\n",
       "      <td>2</td>\n",
       "      <td>4</td>\n",
       "      <td>0</td>\n",
       "      <td>1</td>\n",
       "      <td>0</td>\n",
       "      <td>1</td>\n",
       "    </tr>\n",
       "  </tbody>\n",
       "</table>\n",
       "</div>"
      ],
      "text/plain": [
       "        User_ID  Product_ID  Age  Occupation  City_Category  \\\n",
       "178247  1003576        2228    5           7              2   \n",
       "196647  1000342        1305    7          12              3   \n",
       "418590  1004386        2782    3           5              2   \n",
       "408727  1002931        2631    7           4              2   \n",
       "216416  1003434         485    7           4              2   \n",
       "\n",
       "        Stay_In_Current_City_Years  Marital_Status  Product_Category_1  \\\n",
       "178247                           3               1                   1   \n",
       "196647                           2               0                   5   \n",
       "418590                           4               0                   8   \n",
       "408727                           1               0                   8   \n",
       "216416                           4               0                   1   \n",
       "\n",
       "        Gender_F  Gender_M  \n",
       "178247         0         1  \n",
       "196647         0         1  \n",
       "418590         0         1  \n",
       "408727         0         1  \n",
       "216416         0         1  "
      ]
     },
     "execution_count": 31,
     "metadata": {},
     "output_type": "execute_result"
    }
   ],
   "source": []
  },
  {
   "cell_type": "code",
   "execution_count": null,
   "metadata": {},
   "outputs": [],
   "source": []
  }
 ],
 "metadata": {
  "colab": {
   "authorship_tag": "ABX9TyO+ZrzNux0XljE9GYXlNpnP",
   "mount_file_id": "1o23s9q8kxixJSt7TdJXtqfILVI8jABrj",
   "name": "Black-Friday-Sale",
   "provenance": [],
   "toc_visible": true
  },
  "kernelspec": {
   "display_name": "Python 3",
   "language": "python",
   "name": "python3"
  },
  "language_info": {
   "codemirror_mode": {
    "name": "ipython",
    "version": 3
   },
   "file_extension": ".py",
   "mimetype": "text/x-python",
   "name": "python",
   "nbconvert_exporter": "python",
   "pygments_lexer": "ipython3",
   "version": "3.8.5"
  }
 },
 "nbformat": 4,
 "nbformat_minor": 1
}
